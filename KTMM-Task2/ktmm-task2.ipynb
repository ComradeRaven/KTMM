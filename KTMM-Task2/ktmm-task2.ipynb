{
 "cells": [
  {
   "cell_type": "markdown",
   "metadata": {},
   "source": [
    "Импорты"
   ]
  },
  {
   "cell_type": "code",
   "execution_count": 32,
   "metadata": {},
   "outputs": [],
   "source": [
    "# Symbolic expressions\n",
    "from sympy import Symbol, solve, lambdify, Matrix\n",
    "# Handy arrays\n",
    "import numpy as np\n",
    "# Plotting\n",
    "import matplotlib.pyplot as plt\n",
    "from matplotlib import axes\n",
    "# Functions\n",
    "from typing import Callable"
   ]
  },
  {
   "cell_type": "code",
   "execution_count": 33,
   "metadata": {},
   "outputs": [],
   "source": [
    "def plot_data(func: Callable) -> None:\n",
    "    # Figure\n",
    "    figure = plt.figure(figsize=(10, 5))\n",
    "\n",
    "    # Subplot\n",
    "    subplot = figure.add_subplot()\n",
    "    \n",
    "    # Plot data\n",
    "    func(subplot)\n",
    "    \n",
    "    # Beauty\n",
    "    subplot.legend()\n",
    "    subplot.grid()"
   ]
  },
  {
   "cell_type": "markdown",
   "metadata": {},
   "source": [
    "### Описание модели 5"
   ]
  },
  {
   "cell_type": "markdown",
   "metadata": {},
   "source": [
    "Система уравнений:\n",
    "\n",
    "$$ \\begin{cases}\n",
    "\\frac{dx}{dt} = k_{1}z - k_{-1}x - k_{3}xz + k_{-3}y - k_{2}z^{2}x\\\\\n",
    "\\frac{dy}{dt} = k_{3}xz - k_{-3}y\\\\\n",
    "0<=x<=1, 0<=y<=1, 0<=x + 2y<=1\\\\\n",
    "\\end{cases} $$\n",
    "    "
   ]
  },
  {
   "cell_type": "markdown",
   "metadata": {},
   "source": [
    "$k_{1} = 0.12, \n",
    "k_{-1} = 0.01, \n",
    "k_{2} = 0.95, \n",
    "k_{3} = 0.0032, \n",
    "k_{-3} = 0.002$"
   ]
  },
  {
   "cell_type": "code",
   "execution_count": 34,
   "metadata": {},
   "outputs": [],
   "source": [
    "k1_val, k2_val, k3_val = 0.11, 0.95, 0.0032\n",
    "km1_val, km3_val = 0.01, 0.002"
   ]
  },
  {
   "cell_type": "code",
   "execution_count": 35,
   "metadata": {},
   "outputs": [],
   "source": [
    "# Params\n",
    "k1, k2, k3 = Symbol(\"k1\"), Symbol(\"k2\"), Symbol(\"k3\")\n",
    "km1, km3 = Symbol(\"km1\"), Symbol(\"km3\")\n",
    "# Searched functions\n",
    "x, y = Symbol(\"x\"), Symbol(\"y\")\n",
    "# Non-linear component\n",
    "z = 1 - x - 2*y"
   ]
  },
  {
   "cell_type": "markdown",
   "metadata": {},
   "source": [
    "Решение уравнения относительно $x$ и $k_{1}$"
   ]
  },
  {
   "cell_type": "code",
   "execution_count": 36,
   "metadata": {},
   "outputs": [],
   "source": [
    "eq1 = k1*z - km1*x - k3*x*z + km3*y - k2*(z**2)*x\n",
    "eq2 = k3*x*z - km3*y\n",
    "res = solve([eq1, eq2], y, k1)\n",
    "ySolution = res[0][0]\n",
    "k1Solution = res[0][1]\n"
   ]
  },
  {
   "cell_type": "code",
   "execution_count": 37,
   "metadata": {},
   "outputs": [
    {
     "data": {
      "text/latex": [
       "$\\displaystyle - \\frac{k_{3} x \\left(x - 1\\right)}{2 k_{3} x + km_{3}}$"
      ],
      "text/plain": [
       "-k3*x*(x - 1)/(2*k3*x + km3)"
      ]
     },
     "execution_count": 37,
     "metadata": {},
     "output_type": "execute_result"
    }
   ],
   "source": [
    "ySolution"
   ]
  },
  {
   "cell_type": "code",
   "execution_count": 38,
   "metadata": {},
   "outputs": [
    {
     "data": {
      "text/latex": [
       "$\\displaystyle - \\frac{x \\left(k_{2} km_{3}^{2} x^{2} - 2 k_{2} km_{3}^{2} x + k_{2} km_{3}^{2} + 4 k_{3}^{2} km_{1} x^{2} + 4 k_{3} km_{1} km_{3} x + km_{1} km_{3}^{2}\\right)}{km_{3} \\left(x - 1\\right) \\left(2 k_{3} x + km_{3}\\right)}$"
      ],
      "text/plain": [
       "-x*(k2*km3**2*x**2 - 2*k2*km3**2*x + k2*km3**2 + 4*k3**2*km1*x**2 + 4*k3*km1*km3*x + km1*km3**2)/(km3*(x - 1)*(2*k3*x + km3))"
      ]
     },
     "execution_count": 38,
     "metadata": {},
     "output_type": "execute_result"
    }
   ],
   "source": [
    "k1Solution"
   ]
  },
  {
   "cell_type": "markdown",
   "metadata": {},
   "source": [
    "Матрица системы, её Якобиан, след, определитель (символьные переменные)"
   ]
  },
  {
   "cell_type": "code",
   "execution_count": 39,
   "metadata": {},
   "outputs": [],
   "source": [
    "A = Matrix([eq1, eq2])\n",
    "var_vector = Matrix([x, y])\n",
    "jacA = A.jacobian(var_vector)\n",
    "traceA = jacA.trace()\n",
    "detA = jacA.det()"
   ]
  },
  {
   "cell_type": "markdown",
   "metadata": {},
   "source": [
    "### Однопараметрический анализ"
   ]
  },
  {
   "cell_type": "code",
   "execution_count": 40,
   "metadata": {},
   "outputs": [],
   "source": [
    "X = np.arange(1e-2, 1, 1e-2)"
   ]
  },
  {
   "cell_type": "markdown",
   "metadata": {},
   "source": [
    "Анализ определителя"
   ]
  },
  {
   "cell_type": "code",
   "execution_count": 41,
   "metadata": {},
   "outputs": [
    {
     "name": "stdout",
     "output_type": "stream",
     "text": [
      "[43 49]\n"
     ]
    }
   ],
   "source": [
    "# Function to calculate det(A)\n",
    "detA_from_x = lambdify((x, k1, k2, k3, km1, km3), detA.subs(y, ySolution))\n",
    "\n",
    "# det(A) values\n",
    "detA_values = detA_from_x(X, k1_val, k2_val, k3_val, km1_val, km3_val)\n",
    "\n",
    "# Find all zero points\n",
    "detA_zeros = []\n",
    "for i in range(detA_values.shape[0] - 1):\n",
    "    if detA_values[i] == 0 or detA_values[i] * detA_values[i + 1] < 0:\n",
    "        detA_zeros.append(i)\n",
    "detA_zeros = np.array(detA_zeros)\n",
    "print(detA_zeros)"
   ]
  },
  {
   "cell_type": "code",
   "execution_count": 43,
   "metadata": {},
   "outputs": [
    {
     "data": {
      "image/png": "[encoded data removed]",
      "text/plain": [
       "<Figure size 1000x500 with 1 Axes>"
      ]
     },
     "metadata": {},
     "output_type": "display_data"
    }
   ],
   "source": [
    "def plot_det(subplot: plt.Axes) -> None:\n",
    "    subplot.plot(X, detA_values, label='det(A)')\n",
    "\n",
    "plot_data(plot_det)"
   ]
  },
  {
   "cell_type": "markdown",
   "metadata": {},
   "source": [
    "Анализ следа"
   ]
  },
  {
   "cell_type": "code",
   "execution_count": 45,
   "metadata": {},
   "outputs": [
    {
     "name": "stdout",
     "output_type": "stream",
     "text": [
      "[36 65]\n"
     ]
    }
   ],
   "source": [
    "# Function to calculate trace(A)\n",
    "traceA_from_x = lambdify((x, k1, k2, k3, km1, km3), traceA.subs(y, ySolution))\n",
    "\n",
    "# trace(A) values\n",
    "traceA_values = traceA_from_x(X, k1_val, k2_val, k3_val, km1_val, km3_val)\n",
    "\n",
    "# Find all zero points\n",
    "traceA_zeros = []\n",
    "for i in range(traceA_values.shape[0] - 1):\n",
    "    if traceA_values[i] == 0 or traceA_values[i] * traceA_values[i + 1] < 0:\n",
    "        traceA_zeros.append(i)\n",
    "traceA_zeros = np.array(traceA_zeros)\n",
    "print(traceA_zeros)"
   ]
  },
  {
   "cell_type": "code",
   "execution_count": 48,
   "metadata": {},
   "outputs": [
    {
     "data": {
      "image/png": "[encoded data removed]",
      "text/plain": [
       "<Figure size 1000x500 with 1 Axes>"
      ]
     },
     "metadata": {},
     "output_type": "display_data"
    }
   ],
   "source": [
    "def plot_trace(subplot: plt.Axes) -> None:\n",
    "    subplot.plot(X, traceA_values, label='trace(A)')\n",
    "\n",
    "plot_data(plot_trace)"
   ]
  },
  {
   "cell_type": "markdown",
   "metadata": {},
   "source": [
    "Вычисленте y и k1 на заданной сетке"
   ]
  },
  {
   "cell_type": "code",
   "execution_count": null,
   "metadata": {},
   "outputs": [],
   "source": [
    "# Functions to get y and k1 values\n",
    "y_from_x = lambdify((x, k2, k3, km1, km3), ySolution)\n",
    "k1_from_x = lambdify((x, k2, k3, km1, km3), k1Solution)\n",
    "# Values\n",
    "K1 = k1_from_x(X, k2_val, k3_val, km1_val, km3_val)\n",
    "Y = y_from_x(X, k2_val, k3_val, km1_val, km3_val)"
   ]
  },
  {
   "cell_type": "markdown",
   "metadata": {},
   "source": [
    "Графики"
   ]
  },
  {
   "cell_type": "code",
   "execution_count": 47,
   "metadata": {},
   "outputs": [
    {
     "data": {
      "image/png": "[encoded data removed]",
      "text/plain": [
       "<Figure size 1000x500 with 1 Axes>"
      ]
     },
     "metadata": {},
     "output_type": "display_data"
    }
   ],
   "source": [
    "def plot_1param_analysis(subplot: plt.Axes) -> None:\n",
    "    # Plotting x,y\n",
    "    subplot.plot(K1, X, label=r'$x(k_{1})$')\n",
    "    subplot.plot(K1, Y, label=r'$y(k_{1})$')\n",
    "\n",
    "    # Plotting hopf\n",
    "    for traceA_zero in traceA_zeros:\n",
    "        subplot.plot(K1[traceA_zero], X[traceA_zero], 'rs', label='hopf')\n",
    "        subplot.plot(K1[traceA_zero], Y[traceA_zero], 'rs', label='hopf')\n",
    "\n",
    "    # Plotting saddle-node\n",
    "    for detA_zero in detA_zeros:\n",
    "        subplot.plot(K1[detA_zero], X[detA_zero], 'k*', label='saddle-node')\n",
    "        subplot.plot(K1[detA_zero], Y[detA_zero], 'k*', label='saddle-node')\n",
    "\n",
    "plot_data(plot_1param_analysis)"
   ]
  },
  {
   "cell_type": "markdown",
   "metadata": {},
   "source": [
    "### Двупараметрический анализ"
   ]
  },
  {
   "cell_type": "markdown",
   "metadata": {},
   "source": [
    "Линия кратности"
   ]
  },
  {
   "cell_type": "code",
   "execution_count": 53,
   "metadata": {},
   "outputs": [],
   "source": [
    "res = solve([eq1, eq2, detA], y, k1, k2)\n",
    "ySolution = res[0][0]\n",
    "k1Solution = res[0][1]\n",
    "k2Solution = res[0][2]"
   ]
  },
  {
   "cell_type": "code",
   "execution_count": 54,
   "metadata": {},
   "outputs": [
    {
     "data": {
      "text/latex": [
       "$\\displaystyle - \\frac{k_{3} x \\left(x - 1\\right)}{2 k_{3} x + km_{3}}$"
      ],
      "text/plain": [
       "-k3*x*(x - 1)/(2*k3*x + km3)"
      ]
     },
     "execution_count": 54,
     "metadata": {},
     "output_type": "execute_result"
    }
   ],
   "source": [
    "ySolution"
   ]
  },
  {
   "cell_type": "code",
   "execution_count": 55,
   "metadata": {},
   "outputs": [
    {
     "data": {
      "text/latex": [
       "$\\displaystyle - \\frac{2 km_{1} x^{2} \\cdot \\left(2 k_{3} + km_{3}\\right) \\left(2 k_{3} x + km_{3}\\right)}{km_{3} \\left(x - 1\\right) \\left(2 k_{3} x^{2} + 2 km_{3} x - km_{3}\\right)}$"
      ],
      "text/plain": [
       "-2*km1*x**2*(2*k3 + km3)*(2*k3*x + km3)/(km3*(x - 1)*(2*k3*x**2 + 2*km3*x - km3))"
      ]
     },
     "execution_count": 55,
     "metadata": {},
     "output_type": "execute_result"
    }
   ],
   "source": [
    "k1Solution"
   ]
  },
  {
   "cell_type": "code",
   "execution_count": 56,
   "metadata": {},
   "outputs": [
    {
     "data": {
      "text/latex": [
       "$\\displaystyle - \\frac{km_{1} \\left(2 k_{3} x + km_{3}\\right)^{2} \\cdot \\left(2 k_{3} x^{2} - 4 k_{3} x - km_{3}\\right)}{km_{3}^{2} \\left(x - 1\\right)^{2} \\cdot \\left(2 k_{3} x^{2} + 2 km_{3} x - km_{3}\\right)}$"
      ],
      "text/plain": [
       "-km1*(2*k3*x + km3)**2*(2*k3*x**2 - 4*k3*x - km3)/(km3**2*(x - 1)**2*(2*k3*x**2 + 2*km3*x - km3))"
      ]
     },
     "execution_count": 56,
     "metadata": {},
     "output_type": "execute_result"
    }
   ],
   "source": [
    "k2Solution"
   ]
  },
  {
   "cell_type": "markdown",
   "metadata": {},
   "source": [
    "Линия нейтральности"
   ]
  },
  {
   "cell_type": "code",
   "execution_count": 58,
   "metadata": {},
   "outputs": [],
   "source": [
    "res = solve([eq1, eq2, traceA], y, k1, k2)\n",
    "ySolution = res[0][0]\n",
    "k1Solution = res[0][1]\n",
    "k2Solution = res[0][2]"
   ]
  },
  {
   "cell_type": "code",
   "execution_count": 59,
   "metadata": {},
   "outputs": [
    {
     "data": {
      "text/latex": [
       "$\\displaystyle - \\frac{k_{3} x \\left(x - 1\\right)}{2 k_{3} x + km_{3}}$"
      ],
      "text/plain": [
       "-k3*x*(x - 1)/(2*k3*x + km3)"
      ]
     },
     "execution_count": 59,
     "metadata": {},
     "output_type": "execute_result"
    }
   ],
   "source": [
    "ySolution"
   ]
  },
  {
   "cell_type": "code",
   "execution_count": 60,
   "metadata": {},
   "outputs": [
    {
     "data": {
      "text/latex": [
       "$\\displaystyle - \\frac{x \\left(8 k_{3}^{2} km_{1} x^{3} - 2 k_{3}^{2} km_{3} x^{3} + 2 k_{3}^{2} km_{3} x^{2} + 8 k_{3} km_{1} km_{3} x^{2} - 2 k_{3} km_{3}^{2} x^{2} + k_{3} km_{3}^{2} x + k_{3} km_{3}^{2} + 2 km_{1} km_{3}^{2} x - km_{3}^{3} x + km_{3}^{3}\\right)}{km_{3} \\left(x - 1\\right) \\left(2 k_{3} x^{2} + 2 km_{3} x - km_{3}\\right)}$"
      ],
      "text/plain": [
       "-x*(8*k3**2*km1*x**3 - 2*k3**2*km3*x**3 + 2*k3**2*km3*x**2 + 8*k3*km1*km3*x**2 - 2*k3*km3**2*x**2 + k3*km3**2*x + k3*km3**2 + 2*km1*km3**2*x - km3**3*x + km3**3)/(km3*(x - 1)*(2*k3*x**2 + 2*km3*x - km3))"
      ]
     },
     "execution_count": 60,
     "metadata": {},
     "output_type": "execute_result"
    }
   ],
   "source": [
    "k1Solution"
   ]
  },
  {
   "cell_type": "code",
   "execution_count": 61,
   "metadata": {},
   "outputs": [
    {
     "data": {
      "text/latex": [
       "$\\displaystyle \\frac{\\left(2 k_{3} x + km_{3}\\right) \\left(4 k_{3}^{2} km_{1} x^{3} - 2 k_{3}^{2} km_{3} x^{3} + 2 k_{3}^{2} km_{3} x^{2} + 2 k_{3} km_{1} km_{3} x^{2} + 2 k_{3} km_{1} km_{3} x - 2 k_{3} km_{3}^{2} x^{2} + k_{3} km_{3}^{2} x + k_{3} km_{3}^{2} + km_{1} km_{3}^{2} - km_{3}^{3} x + km_{3}^{3}\\right)}{km_{3}^{2} \\left(x - 1\\right)^{2} \\cdot \\left(2 k_{3} x^{2} + 2 km_{3} x - km_{3}\\right)}$"
      ],
      "text/plain": [
       "(2*k3*x + km3)*(4*k3**2*km1*x**3 - 2*k3**2*km3*x**3 + 2*k3**2*km3*x**2 + 2*k3*km1*km3*x**2 + 2*k3*km1*km3*x - 2*k3*km3**2*x**2 + k3*km3**2*x + k3*km3**2 + km1*km3**2 - km3**3*x + km3**3)/(km3**2*(x - 1)**2*(2*k3*x**2 + 2*km3*x - km3))"
      ]
     },
     "execution_count": 61,
     "metadata": {},
     "output_type": "execute_result"
    }
   ],
   "source": [
    "k2Solution"
   ]
  }
 ],
 "metadata": {
  "kernelspec": {
   "display_name": "KT",
   "language": "python",
   "name": "python3"
  },
  "language_info": {
   "codemirror_mode": {
    "name": "ipython",
    "version": 3
   },
   "file_extension": ".py",
   "mimetype": "text/x-python",
   "name": "python",
   "nbconvert_exporter": "python",
   "pygments_lexer": "ipython3",
   "version": "3.9.18"
  }
 },
 "nbformat": 4,
 "nbformat_minor": 2
}
